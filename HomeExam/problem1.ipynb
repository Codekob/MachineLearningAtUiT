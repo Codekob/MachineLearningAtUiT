{
 "cells": [
  {
   "cell_type": "code",
   "execution_count": 64,
   "metadata": {},
   "outputs": [],
   "source": [
    "import pandas as pd\n",
    "import numpy as np \n",
    "import seaborn as sns\n",
    "import matplotlib.pyplot as plt\n",
    "import scipy.stats as stats"
   ]
  },
  {
   "cell_type": "code",
   "execution_count": 65,
   "metadata": {},
   "outputs": [
    {
     "name": "stdout",
     "output_type": "stream",
     "text": [
      "3360\n"
     ]
    }
   ],
   "source": [
    "data = pd.read_csv('data/train.csv')\n",
    "data.head()\n",
    "print(len(data))"
   ]
  },
  {
   "cell_type": "code",
   "execution_count": 66,
   "metadata": {},
   "outputs": [
    {
     "name": "stdout",
     "output_type": "stream",
     "text": [
      "False\n"
     ]
    }
   ],
   "source": [
    "# drop first column as it doesnt help us with analysis\n",
    "data = data.drop(\"Id\", axis=1)\n",
    "\n",
    "# check if missing values\n",
    "any_missing = data.isnull().values.any()\n",
    "print(any_missing)\n",
    "\n",
    "# check if a col only has 0s and drop\n",
    "zero_cols = data.columns[(data == 0).all()].tolist()\n",
    "data = data.drop(columns=zero_cols)\n",
    "\n",
    "\n"
   ]
  },
  {
   "cell_type": "code",
   "execution_count": 67,
   "metadata": {},
   "outputs": [
    {
     "name": "stdout",
     "output_type": "stream",
     "text": [
      "Old shape: (3360, 219)\n",
      "New shape: (3360, 176)\n"
     ]
    }
   ],
   "source": [
    "# figure out correlated features\n",
    "\n",
    "corr_matrix = data.corr().abs()\n",
    "threshold = 0.90\n",
    "high_corr_var = set()\n",
    "for i in range(len(corr_matrix.columns)):\n",
    "    for j in range(i):\n",
    "        if corr_matrix.iloc[i,j] > threshold:\n",
    "            col = corr_matrix.columns[i]\n",
    "            high_corr_var.add(col)\n",
    "            \n",
    "\n",
    "# drop correlated features\n",
    "\n",
    "data_reduced = data.drop(columns=high_corr_var)\n",
    "print(\"Old shape: \" + str(data.shape) + \"\\nNew shape: \" + str(data_reduced.shape))"
   ]
  },
  {
   "cell_type": "code",
   "execution_count": 50,
   "metadata": {},
   "outputs": [],
   "source": [
    "# scale all the features for logisitoc regression\n",
    "\n",
    "X = data_reduced.drop(\"lipophilicity\", axis=1)\n",
    "means = np.mean(X, axis=0)\n",
    "sdeviation = np.std(X, axis=0)\n",
    "X_std = (X-means) / sdeviation"
   ]
  }
 ],
 "metadata": {
  "kernelspec": {
   "display_name": "dataScience",
   "language": "python",
   "name": "python3"
  },
  "language_info": {
   "codemirror_mode": {
    "name": "ipython",
    "version": 3
   },
   "file_extension": ".py",
   "mimetype": "text/x-python",
   "name": "python",
   "nbconvert_exporter": "python",
   "pygments_lexer": "ipython3",
   "version": "3.12.2"
  }
 },
 "nbformat": 4,
 "nbformat_minor": 2
}

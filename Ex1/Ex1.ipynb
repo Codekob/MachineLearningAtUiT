{
 "cells": [
  {
   "cell_type": "code",
   "execution_count": 25,
   "metadata": {},
   "outputs": [],
   "source": [
    "import numpy as np\n",
    "import time"
   ]
  },
  {
   "cell_type": "code",
   "execution_count": 9,
   "metadata": {},
   "outputs": [],
   "source": [
    "# vectors \n",
    "a = np.array([1,1,1,1,1,1])\n",
    "b = np.array([2,2,2,2,2,2])\n",
    "X = np.array([[3,3,3,3,3,3],\n",
    "              [3,3,3,3,3,3],\n",
    "              [3,3,3,3,3,3],\n",
    "              [3,3,3,3,3,3]])\n",
    "Z = np.array([[4,4,4,4,4,4],\n",
    "             [4,4,4,4,4,4],\n",
    "             [4,4,4,4,4,4]])"
   ]
  },
  {
   "cell_type": "code",
   "execution_count": 10,
   "metadata": {},
   "outputs": [
    {
     "name": "stdout",
     "output_type": "stream",
     "text": [
      "12\n"
     ]
    }
   ],
   "source": [
    "#1b and 1c\n",
    "y = a@b\n",
    "print(y)"
   ]
  },
  {
   "cell_type": "code",
   "execution_count": 11,
   "metadata": {},
   "outputs": [
    {
     "name": "stdout",
     "output_type": "stream",
     "text": [
      "[18 18 18 18]\n"
     ]
    }
   ],
   "source": [
    "#1d \n",
    "\n",
    "y = a@X.T\n",
    "print(y)"
   ]
  },
  {
   "cell_type": "code",
   "execution_count": 12,
   "metadata": {},
   "outputs": [
    {
     "name": "stdout",
     "output_type": "stream",
     "text": [
      "72\n"
     ]
    }
   ],
   "source": [
    "#1e \n",
    "\n",
    "a_tmp = np.tile(a, (4,1))\n",
    "y = np.sum(a_tmp * X, axis=1)\n",
    "print(np.sum(y))"
   ]
  },
  {
   "cell_type": "code",
   "execution_count": 13,
   "metadata": {},
   "outputs": [
    {
     "name": "stdout",
     "output_type": "stream",
     "text": [
      "[[72 72 72 72]\n",
      " [72 72 72 72]\n",
      " [72 72 72 72]]\n"
     ]
    }
   ],
   "source": [
    "#1f \n",
    "\n",
    "y = Z@X.T\n",
    "print(y)"
   ]
  },
  {
   "cell_type": "code",
   "execution_count": 18,
   "metadata": {},
   "outputs": [
    {
     "data": {
      "text/plain": [
       "array([1.91242856, 1.38575315, 1.11377203, 1.26431798, 1.43007651])"
      ]
     },
     "execution_count": 18,
     "metadata": {},
     "output_type": "execute_result"
    }
   ],
   "source": [
    "#1g\n",
    "\n",
    "# sample matrices\n",
    "x = np.array([\n",
    "    [0.85010961, 0.196843  , 0.62482917],\n",
    "    [0.43200093, 0.84558781, 0.15000539],\n",
    "    [0.52065869, 0.52032799, 0.06452433],\n",
    "    [0.31393462, 0.49788737, 0.39832731],\n",
    "    [0.742627  , 0.6549765 , 0.02164187]\n",
    "])\n",
    "\n",
    "w = np.array([\n",
    "    [0.87635738, 0.43876443, 0.6723783 ],\n",
    "    [0.83112752, 0.7563367 , 0.70536239],\n",
    "    [0.58914038, 0.70466684, 0.46502848],\n",
    "    [0.32523603, 0.18626796, 0.88806008]\n",
    "])\n",
    "\n",
    "a = np.array([0.71051815, 0.080134  , 0.51579408, 0.50644482])\n",
    "\n",
    "v = x@w.T\n",
    "v.shape\n",
    "\n",
    "y = v@a\n",
    "y\n"
   ]
  },
  {
   "cell_type": "code",
   "execution_count": 24,
   "metadata": {},
   "outputs": [
    {
     "name": "stdout",
     "output_type": "stream",
     "text": [
      "[[1.25148911 1.29616007 0.93010599 0.86803766]\n",
      " [0.85046143 1.10440512 0.92012366 0.43122198]\n",
      " [0.72796926 0.87178996 0.70340459 0.32355888]\n",
      " [0.76140083 0.9184553  0.72102982 0.5485819 ]\n",
      " [0.95273857 1.12786586 0.90911586 0.38274947]]\n",
      "[[1.25148911 1.29616007 0.93010599 0.86803766]\n",
      " [0.85046143 1.10440512 0.92012366 0.43122198]\n",
      " [0.72796926 0.87178996 0.70340459 0.32355888]\n",
      " [0.76140083 0.9184553  0.72102982 0.5485819 ]\n",
      " [0.95273857 1.12786586 0.90911586 0.38274947]]\n"
     ]
    }
   ],
   "source": [
    "#1h \n",
    "def matrix_mul(x, w):\n",
    "    if x.shape[1] != w.shape[0]:\n",
    "        raise ValueError(\"Matrix dimensions do not match\")\n",
    "    result = np.zeros((x.shape[0], w.shape[1]))\n",
    "    for indexr, row in enumerate(result):\n",
    "        for indexc, col in enumerate(row):\n",
    "            result[indexr][indexc] = np.dot(x[indexr], w[:,indexc])\n",
    "    return result\n",
    "\n",
    "\n",
    "print(matrix_mul(x, w.T))\n",
    "print(x@w.T)"
   ]
  },
  {
   "cell_type": "code",
   "execution_count": 32,
   "metadata": {},
   "outputs": [
    {
     "data": {
      "text/plain": [
       "(2.598328113555908, 0.03175830841064453)"
      ]
     },
     "execution_count": 32,
     "metadata": {},
     "output_type": "execute_result"
    }
   ],
   "source": [
    "#1i\n",
    "\n",
    "def matrix_mul_symmetric(A):\n",
    "    N = A.shape[1]\n",
    "    result = np.zeros((N, N))\n",
    "    for i in range(N):\n",
    "        for j in range(i, N):\n",
    "            result[i, j] = np.dot(A[:, i], A[:, j])\n",
    "            if i != j:\n",
    "                result[j, i] = result[i, j]\n",
    "    return result\n",
    "\n",
    "A = np.random.randint(low=0, high=10, size=(1000,100))\n",
    "\n",
    "\n",
    "start_time = time.time()\n",
    "ATA_self = matrix_mul(A,A.T)\n",
    "custom_time = time.time() - start_time\n",
    "\n",
    "\n",
    "start_time = time.time()\n",
    "ATA_custom = matrix_mul_symmetric(A)\n",
    "builtin_time = time.time() - start_time\n",
    "\n",
    "custom_time, builtin_time"
   ]
  }
 ],
 "metadata": {
  "kernelspec": {
   "display_name": "dataScience",
   "language": "python",
   "name": "python3"
  },
  "language_info": {
   "codemirror_mode": {
    "name": "ipython",
    "version": 3
   },
   "file_extension": ".py",
   "mimetype": "text/x-python",
   "name": "python",
   "nbconvert_exporter": "python",
   "pygments_lexer": "ipython3",
   "version": "3.12.2"
  }
 },
 "nbformat": 4,
 "nbformat_minor": 2
}
